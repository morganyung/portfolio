{
 "cells": [
  {
   "cell_type": "code",
   "execution_count": 193,
   "id": "6ad2855b-fa7b-4510-9388-95d95df2fc74",
   "metadata": {},
   "outputs": [
    {
     "data": {
      "text/plain": [
       "'/home/ec2-user/MY - Text Class'"
      ]
     },
     "execution_count": 193,
     "metadata": {},
     "output_type": "execute_result"
    }
   ],
   "source": [
    "pwd"
   ]
  },
  {
   "cell_type": "code",
   "execution_count": 194,
   "id": "63b2d731-e39c-45ab-96f6-d0180f7c0c77",
   "metadata": {},
   "outputs": [],
   "source": [
    "# !pip install s3fs"
   ]
  },
  {
   "cell_type": "code",
   "execution_count": 195,
   "id": "7c587dfe-4701-46c1-81fc-1daa87beba4a",
   "metadata": {},
   "outputs": [],
   "source": [
    "# bucket = 'w210awsbucket/fridge'\n",
    "# data_key = 'df_fridge.csv'\n",
    "# data_location = 's3://{}/{}'.format(bucket,data_key)\n",
    "\n",
    "# pd.read_csv(data_location)"
   ]
  },
  {
   "cell_type": "code",
   "execution_count": 196,
   "id": "7583a656-0aaf-4715-bb69-40de48683174",
   "metadata": {},
   "outputs": [],
   "source": [
    "# !pip install -q transformers einops accelerate langchain bitsandbytes\n",
    "# !pip install sentencepiece xformers trl transformers"
   ]
  },
  {
   "cell_type": "code",
   "execution_count": 197,
   "id": "0b09e747-c48c-4baa-ad1c-5ec238407ec0",
   "metadata": {},
   "outputs": [],
   "source": [
    "# !pip install spacy"
   ]
  },
  {
   "cell_type": "code",
   "execution_count": 198,
   "id": "dd7082d8-3a89-46c2-8744-8e6d082ecd4b",
   "metadata": {},
   "outputs": [],
   "source": [
    "from langchain import HuggingFacePipeline\n",
    "from transformers import AutoTokenizer, AutoModelForCausalLM, pipeline, AutoModel, AutoModelForSequenceClassification, BertForSequenceClassification, AdamW, BertConfig, BertTokenizer, BertTokenizerFast\n",
    "import torch\n",
    "import torch.nn as nn\n",
    "import torch.nn.functional as F\n",
    "from torch.utils.data import TensorDataset\n",
    "from datasets import load_dataset\n",
    "from trl import SFTTrainer\n",
    "import spacy\n",
    "import logging\n",
    "import pandas as pd\n",
    "import numpy as np\n",
    "from numpy import random\n",
    "import gensim\n",
    "import nltk\n",
    "from sklearn.model_selection import train_test_split\n",
    "from sklearn.feature_extraction.text import CountVectorizer, TfidfVectorizer\n",
    "from sklearn.metrics import accuracy_score, confusion_matrix, classification_report\n",
    "import matplotlib.pyplot as plt\n",
    "from nltk.corpus import stopwords\n",
    "import re\n",
    "from bs4 import BeautifulSoup\n",
    "%matplotlib inline"
   ]
  },
  {
   "cell_type": "code",
   "execution_count": 199,
   "id": "ee1ba49f-57e7-4100-b66c-15d6cf84e3fe",
   "metadata": {},
   "outputs": [],
   "source": [
    "df = pd.read_csv('joined_labels.csv')\n",
    "\n",
    "# label_mapping = {\n",
    "#     'Delivery/Packaging': 0,\n",
    "#     'Quality': 1,\n",
    "#     'Design/Functionality': 2,\n",
    "#     'Information': 3,\n",
    "#     'Other': 4,\n",
    "#     'Service': 5,\n",
    "#     'Value': 6\n",
    "# }\n"
   ]
  },
  {
   "cell_type": "code",
   "execution_count": 200,
   "id": "c3b536b5-5a5c-45e8-98e5-40aec9a09142",
   "metadata": {},
   "outputs": [
    {
     "data": {
      "text/html": [
       "<div>\n",
       "<style scoped>\n",
       "    .dataframe tbody tr th:only-of-type {\n",
       "        vertical-align: middle;\n",
       "    }\n",
       "\n",
       "    .dataframe tbody tr th {\n",
       "        vertical-align: top;\n",
       "    }\n",
       "\n",
       "    .dataframe thead th {\n",
       "        text-align: right;\n",
       "    }\n",
       "</style>\n",
       "<table border=\"1\" class=\"dataframe\">\n",
       "  <thead>\n",
       "    <tr style=\"text-align: right;\">\n",
       "      <th></th>\n",
       "      <th>reviewText</th>\n",
       "      <th>labels</th>\n",
       "      <th>product_category</th>\n",
       "      <th>num_labels</th>\n",
       "    </tr>\n",
       "  </thead>\n",
       "  <tbody>\n",
       "    <tr>\n",
       "      <th>0</th>\n",
       "      <td>Used it 3 times...now leaking oil...what a POS.</td>\n",
       "      <td>Quality</td>\n",
       "      <td>mower</td>\n",
       "      <td>1</td>\n",
       "    </tr>\n",
       "    <tr>\n",
       "      <th>1</th>\n",
       "      <td>I don't like how the throttle works. It is har...</td>\n",
       "      <td>Design/Functionality</td>\n",
       "      <td>mower</td>\n",
       "      <td>2</td>\n",
       "    </tr>\n",
       "    <tr>\n",
       "      <th>2</th>\n",
       "      <td>Here's the real deal on these new cheap Poulan...</td>\n",
       "      <td>Design/Functionality</td>\n",
       "      <td>mower</td>\n",
       "      <td>2</td>\n",
       "    </tr>\n",
       "    <tr>\n",
       "      <th>3</th>\n",
       "      <td>If you are looking for a manual push mower you...</td>\n",
       "      <td>Design/Functionality</td>\n",
       "      <td>mower</td>\n",
       "      <td>2</td>\n",
       "    </tr>\n",
       "    <tr>\n",
       "      <th>4</th>\n",
       "      <td>DO NOT BUY\\nI used this twice and it stopped w...</td>\n",
       "      <td>Quality</td>\n",
       "      <td>mower</td>\n",
       "      <td>1</td>\n",
       "    </tr>\n",
       "  </tbody>\n",
       "</table>\n",
       "</div>"
      ],
      "text/plain": [
       "                                          reviewText                labels  \\\n",
       "0    Used it 3 times...now leaking oil...what a POS.               Quality   \n",
       "1  I don't like how the throttle works. It is har...  Design/Functionality   \n",
       "2  Here's the real deal on these new cheap Poulan...  Design/Functionality   \n",
       "3  If you are looking for a manual push mower you...  Design/Functionality   \n",
       "4  DO NOT BUY\\nI used this twice and it stopped w...               Quality   \n",
       "\n",
       "  product_category  num_labels  \n",
       "0            mower           1  \n",
       "1            mower           2  \n",
       "2            mower           2  \n",
       "3            mower           2  \n",
       "4            mower           1  "
      ]
     },
     "execution_count": 200,
     "metadata": {},
     "output_type": "execute_result"
    }
   ],
   "source": [
    "df.head()"
   ]
  },
  {
   "cell_type": "code",
   "execution_count": 201,
   "id": "3c6aafb5-9d5a-4ee3-b3df-7fee206ba5cb",
   "metadata": {},
   "outputs": [],
   "source": [
    "nb_labels = 3\n",
    "model_id = 'bert-base-uncased'\n",
    "#model_id = 'bert-large-uncased'"
   ]
  },
  {
   "cell_type": "code",
   "execution_count": 202,
   "id": "a59e9dcc-414f-4f29-8e17-8df6af3deeec",
   "metadata": {},
   "outputs": [],
   "source": [
    "df = df[df['num_labels']<= (nb_labels-1)]"
   ]
  },
  {
   "cell_type": "code",
   "execution_count": 203,
   "id": "dd8fff1b-7975-43c2-a01d-79425e9dc322",
   "metadata": {},
   "outputs": [],
   "source": [
    "from sklearn.model_selection import train_test_split\n",
    "X_train, X_test, y_train, y_test = train_test_split(df.index.values, \n",
    "                                                  df.num_labels.values, \n",
    "                                                  test_size=0.10, \n",
    "                                                  random_state=42, \n",
    "                                                  stratify=df.num_labels.values)\n",
    "\n",
    "X_train, X_val, y_train, y_val = train_test_split(X_train, \n",
    "                                                  y_train, \n",
    "                                                  test_size=0.111, \n",
    "                                                  random_state=42, \n",
    "                                                  stratify=y_train)"
   ]
  },
  {
   "cell_type": "code",
   "execution_count": 204,
   "id": "a9f7ea07-7593-4e34-b5f3-a5640fe25bb2",
   "metadata": {},
   "outputs": [],
   "source": [
    "df['data_type'] = ['not_set']*df.shape[0]\n",
    "\n",
    "df.loc[X_train, 'data_type'] = 'train'\n",
    "df.loc[X_val, 'data_type'] = 'val'\n",
    "df.loc[X_test, 'data_type'] = 'test'"
   ]
  },
  {
   "cell_type": "code",
   "execution_count": 205,
   "id": "8480ba06-5210-437b-a747-a5343faa1ecd",
   "metadata": {},
   "outputs": [],
   "source": [
    "tokenizer = BertTokenizer.from_pretrained(model_id, \n",
    "                                          do_lower_case=True)"
   ]
  },
  {
   "cell_type": "code",
   "execution_count": 206,
   "id": "d8f92642-df59-4118-9394-2ff8929a79bf",
   "metadata": {},
   "outputs": [
    {
     "name": "stderr",
     "output_type": "stream",
     "text": [
      "Truncation was not explicitly activated but `max_length` is provided a specific value, please use `truncation=True` to explicitly truncate examples to max length. Defaulting to 'longest_first' truncation strategy. If you encode pairs of sequences (GLUE-style) with the tokenizer you can select this strategy more precisely by providing a specific strategy to `truncation`.\n",
      "/home/ec2-user/anaconda3/lib/python3.10/site-packages/transformers/tokenization_utils_base.py:2377: FutureWarning: The `pad_to_max_length` argument is deprecated and will be removed in a future version, use `padding=True` or `padding='longest'` to pad to the longest sequence in the batch, or use `padding='max_length'` to pad to a max length. In this case, you can give a specific length with `max_length` (e.g. `max_length=45`) or leave max_length to None to pad to the maximal input size of the model (e.g. 512 for Bert).\n",
      "  warnings.warn(\n"
     ]
    }
   ],
   "source": [
    "encoded_data_train = tokenizer.batch_encode_plus(\n",
    "    df[df.data_type=='train'].reviewText.values, \n",
    "    add_special_tokens=True, \n",
    "    return_attention_mask=True, \n",
    "    pad_to_max_length=True, \n",
    "    max_length=256, \n",
    "    return_tensors='pt'\n",
    ")\n",
    "\n",
    "encoded_data_val = tokenizer.batch_encode_plus(\n",
    "    df[df.data_type=='val'].reviewText.values, \n",
    "    add_special_tokens=True, \n",
    "    return_attention_mask=True, \n",
    "    pad_to_max_length=True, \n",
    "    max_length=256, \n",
    "    return_tensors='pt'\n",
    ")\n",
    "\n",
    "encoded_data_test = tokenizer.batch_encode_plus(\n",
    "    df[df.data_type=='test'].reviewText.values, \n",
    "    add_special_tokens=True, \n",
    "    return_attention_mask=True, \n",
    "    pad_to_max_length=True, \n",
    "    max_length=256, \n",
    "    return_tensors='pt'\n",
    ")\n",
    "\n",
    "input_ids_train = encoded_data_train['input_ids']\n",
    "attention_masks_train = encoded_data_train['attention_mask']\n",
    "labels_train = torch.tensor(df[df.data_type=='train'].num_labels.values)\n",
    "\n",
    "input_ids_val = encoded_data_val['input_ids']\n",
    "attention_masks_val = encoded_data_val['attention_mask']\n",
    "labels_val = torch.tensor(df[df.data_type=='val'].num_labels.values)\n",
    "\n",
    "input_ids_test = encoded_data_test['input_ids']\n",
    "attention_masks_test = encoded_data_test['attention_mask']\n",
    "labels_test = torch.tensor(df[df.data_type=='test'].num_labels.values)"
   ]
  },
  {
   "cell_type": "code",
   "execution_count": 207,
   "id": "e7e34ddf-22d1-44d2-b35c-9e1c263c1280",
   "metadata": {},
   "outputs": [],
   "source": [
    "dataset_train = TensorDataset(input_ids_train, attention_masks_train, labels_train)\n",
    "dataset_val = TensorDataset(input_ids_val, attention_masks_val, labels_val)\n",
    "dataset_test = TensorDataset(input_ids_test, attention_masks_test, labels_test)"
   ]
  },
  {
   "cell_type": "code",
   "execution_count": 208,
   "id": "1dd736a8-00de-4fb6-ba7f-2c524f050047",
   "metadata": {},
   "outputs": [
    {
     "data": {
      "text/plain": [
       "(1867, 234, 234)"
      ]
     },
     "execution_count": 208,
     "metadata": {},
     "output_type": "execute_result"
    }
   ],
   "source": [
    "len(dataset_train), len(dataset_val), len(dataset_test)"
   ]
  },
  {
   "cell_type": "code",
   "execution_count": 209,
   "id": "648b9abf-bd62-4bf0-9d6c-61e205fa754b",
   "metadata": {},
   "outputs": [
    {
     "name": "stderr",
     "output_type": "stream",
     "text": [
      "Some weights of the model checkpoint at bert-base-uncased were not used when initializing BertForSequenceClassification: ['cls.predictions.bias', 'cls.predictions.transform.dense.bias', 'cls.predictions.transform.dense.weight', 'cls.predictions.transform.LayerNorm.weight', 'cls.predictions.transform.LayerNorm.bias', 'cls.seq_relationship.bias', 'cls.seq_relationship.weight']\n",
      "- This IS expected if you are initializing BertForSequenceClassification from the checkpoint of a model trained on another task or with another architecture (e.g. initializing a BertForSequenceClassification model from a BertForPreTraining model).\n",
      "- This IS NOT expected if you are initializing BertForSequenceClassification from the checkpoint of a model that you expect to be exactly identical (initializing a BertForSequenceClassification model from a BertForSequenceClassification model).\n",
      "Some weights of BertForSequenceClassification were not initialized from the model checkpoint at bert-base-uncased and are newly initialized: ['classifier.bias', 'classifier.weight']\n",
      "You should probably TRAIN this model on a down-stream task to be able to use it for predictions and inference.\n"
     ]
    }
   ],
   "source": [
    "model = BertForSequenceClassification.from_pretrained(model_id,\n",
    "                                                      #num_labels=len(label_dict),\n",
    "                                                      num_labels=nb_labels,\n",
    "                                                      output_attentions=False,\n",
    "                                                      output_hidden_states=False)"
   ]
  },
  {
   "cell_type": "code",
   "execution_count": 210,
   "id": "a2ca0e22-858c-4806-b736-894c4ee1b149",
   "metadata": {},
   "outputs": [],
   "source": [
    "from torch.utils.data import DataLoader, RandomSampler, SequentialSampler\n",
    "\n",
    "batch_size = 3\n",
    "\n",
    "dataloader_train = DataLoader(dataset_train, \n",
    "                              sampler=RandomSampler(dataset_train), \n",
    "                              batch_size=batch_size)\n",
    "\n",
    "dataloader_validation = DataLoader(dataset_val, \n",
    "                                   sampler=SequentialSampler(dataset_val), \n",
    "                                   batch_size=batch_size)\n",
    "\n",
    "dataloader_test = DataLoader(dataset_test, \n",
    "                                   sampler=SequentialSampler(dataset_test), \n",
    "                                   batch_size=batch_size)"
   ]
  },
  {
   "cell_type": "code",
   "execution_count": 211,
   "id": "f724b2e8-b4de-45ce-b6f5-b3402d73ffcb",
   "metadata": {},
   "outputs": [
    {
     "name": "stderr",
     "output_type": "stream",
     "text": [
      "/home/ec2-user/anaconda3/lib/python3.10/site-packages/transformers/optimization.py:411: FutureWarning: This implementation of AdamW is deprecated and will be removed in a future version. Use the PyTorch implementation torch.optim.AdamW instead, or set `no_deprecation_warning=True` to disable this warning\n",
      "  warnings.warn(\n"
     ]
    }
   ],
   "source": [
    "from transformers import AdamW, get_linear_schedule_with_warmup\n",
    "\n",
    "optimizer = AdamW(model.parameters(),\n",
    "                  lr=1e-5, \n",
    "                  eps=1e-8)"
   ]
  },
  {
   "cell_type": "code",
   "execution_count": 212,
   "id": "7d365640-f47a-4f01-8895-349cfd7a904d",
   "metadata": {},
   "outputs": [],
   "source": [
    "epochs = 5\n",
    "\n",
    "scheduler = get_linear_schedule_with_warmup(optimizer, \n",
    "                                            num_warmup_steps=0,\n",
    "                                            num_training_steps=len(dataloader_train)*epochs)"
   ]
  },
  {
   "cell_type": "code",
   "execution_count": 213,
   "id": "da3149b4-35f4-4bf1-953e-de547c8b7741",
   "metadata": {},
   "outputs": [],
   "source": [
    "from sklearn.metrics import f1_score\n",
    "\n",
    "def f1_score_func(preds, labels):\n",
    "    preds_flat = np.argmax(preds, axis=1).flatten()\n",
    "    labels_flat = labels.flatten()\n",
    "    return f1_score(labels_flat, preds_flat, average='weighted')\n",
    "\n",
    "def accuracy_per_class(preds, labels):\n",
    "    label_dict_inverse = {v: k for k, v in label_dict.items()}\n",
    "    \n",
    "    preds_flat = np.argmax(preds, axis=1).flatten()\n",
    "    labels_flat = labels.flatten()\n",
    "\n",
    "    for label in np.unique(labels_flat):\n",
    "        y_preds = preds_flat[labels_flat==label]\n",
    "        y_true = labels_flat[labels_flat==label]\n",
    "        print(f'Class: {label_dict_inverse[label]}')\n",
    "        print(f'Accuracy: {len(y_preds[y_preds==label])}/{len(y_true)}\\n')"
   ]
  },
  {
   "cell_type": "code",
   "execution_count": 214,
   "id": "3e8c17bb-1336-4bbc-9f72-d2f25303fe00",
   "metadata": {},
   "outputs": [],
   "source": [
    "from sklearn.metrics import precision_recall_fscore_support\n",
    "\n",
    "def f1_score_byClass(preds, labels):\n",
    "    preds_flat = np.argmax(preds, axis=1).flatten()\n",
    "    labels_flat = labels.flatten()\n",
    "    \n",
    "    precision, recall, f1_score, _ = precision_recall_fscore_support(labels_flat, preds_flat, average=None)\n",
    "    \n",
    "    return precision, recall, f1_score\n",
    "    #return f1_score"
   ]
  },
  {
   "cell_type": "code",
   "execution_count": 215,
   "id": "1bc1a6fb-10c6-48e2-a77d-9aba9a52a676",
   "metadata": {},
   "outputs": [],
   "source": [
    "import random\n",
    "\n",
    "seed_val = 17\n",
    "random.seed(seed_val)\n",
    "np.random.seed(seed_val)\n",
    "torch.manual_seed(seed_val)\n",
    "torch.cuda.manual_seed_all(seed_val)"
   ]
  },
  {
   "cell_type": "code",
   "execution_count": 216,
   "id": "803ef657-bcd1-4359-ab33-b2a01fb887bf",
   "metadata": {},
   "outputs": [
    {
     "name": "stdout",
     "output_type": "stream",
     "text": [
      "cpu\n"
     ]
    }
   ],
   "source": [
    "device = torch.device('cuda' if torch.cuda.is_available() else 'cpu')\n",
    "#device = torch.device('cpu') #use cpu to diagnose error\n",
    "model.to(device)\n",
    "\n",
    "print(device)"
   ]
  },
  {
   "cell_type": "code",
   "execution_count": 217,
   "id": "432be6c9-9e75-4c03-a859-81657d426d28",
   "metadata": {},
   "outputs": [],
   "source": [
    "def evaluate(dataloader_val):\n",
    "\n",
    "    model.eval()\n",
    "    \n",
    "    loss_val_total = 0\n",
    "    predictions, true_vals = [], []\n",
    "    \n",
    "    for batch in dataloader_val:\n",
    "        \n",
    "        batch = tuple(b.to(device) for b in batch)\n",
    "        \n",
    "        inputs = {'input_ids':      batch[0],\n",
    "                  'attention_mask': batch[1],\n",
    "                  'labels':         batch[2],\n",
    "                 }\n",
    "\n",
    "        with torch.no_grad():        \n",
    "            outputs = model(**inputs)\n",
    "            \n",
    "        loss = outputs[0]\n",
    "        logits = outputs[1]\n",
    "        loss_val_total += loss.item()\n",
    "\n",
    "        logits = logits.detach().cpu().numpy()\n",
    "        label_ids = inputs['labels'].cpu().numpy()\n",
    "        predictions.append(logits)\n",
    "        true_vals.append(label_ids)\n",
    "    \n",
    "    loss_val_avg = loss_val_total/len(dataloader_val) \n",
    "    \n",
    "    predictions = np.concatenate(predictions, axis=0)\n",
    "    true_vals = np.concatenate(true_vals, axis=0)\n",
    "            \n",
    "    return loss_val_avg, predictions, true_vals"
   ]
  },
  {
   "cell_type": "code",
   "execution_count": 218,
   "id": "6247d0d0-9315-46d2-8a42-fb6c49cf48c1",
   "metadata": {},
   "outputs": [],
   "source": [
    "from tqdm.notebook import tqdm"
   ]
  },
  {
   "cell_type": "code",
   "execution_count": 219,
   "id": "b7ec28d4-3f09-4fb7-a626-222c7178ec66",
   "metadata": {},
   "outputs": [],
   "source": [
    "# for epoch in tqdm(range(1, epochs+1)):\n",
    "    \n",
    "#     model.train()\n",
    "    \n",
    "#     loss_train_total = 0\n",
    "\n",
    "#     progress_bar = tqdm(dataloader_train, desc='Epoch {:1d}'.format(epoch), leave=False, disable=False)\n",
    "#     for batch in progress_bar:\n",
    "\n",
    "#         model.zero_grad()\n",
    "        \n",
    "#         batch = tuple(b.to(device) for b in batch)\n",
    "        \n",
    "#         inputs = {'input_ids':      batch[0],\n",
    "#                   'attention_mask': batch[1],\n",
    "#                   'labels':         batch[2],\n",
    "#                  }       \n",
    "\n",
    "#         outputs = model(**inputs)\n",
    "        \n",
    "#         loss = outputs[0]\n",
    "#         loss_train_total += loss.item()\n",
    "#         loss.backward()\n",
    "\n",
    "#         torch.nn.utils.clip_grad_norm_(model.parameters(), 1.0)\n",
    "\n",
    "#         optimizer.step()\n",
    "#         scheduler.step()\n",
    "        \n",
    "#         progress_bar.set_postfix({'training_loss': '{:.3f}'.format(loss.item()/len(batch))})\n",
    "         \n",
    "        \n",
    "#     #torch.save(model.state_dict(), f'data_volume/finetuned_BERT_epoch_{epoch}.model')\n",
    "#     torch.save(model.state_dict(), f'data_volume2/finetuned_BERT_Large_uncased_DQD_epoch_{epoch}.model')\n",
    "        \n",
    "#     tqdm.write(f'\\nEpoch {epoch}')\n",
    "    \n",
    "#     loss_train_avg = loss_train_total/len(dataloader_train)            \n",
    "#     tqdm.write(f'Training loss: {loss_train_avg}')\n",
    "    \n",
    "#     val_loss, predictions, true_vals = evaluate(dataloader_validation)\n",
    "#     val_f1 = f1_score_func(predictions, true_vals)\n",
    "#     tqdm.write(f'Validation loss: {val_loss}')\n",
    "#     tqdm.write(f'F1 Score (Weighted): {val_f1}')"
   ]
  },
  {
   "cell_type": "code",
   "execution_count": 220,
   "id": "42be5e6d-90cc-48d0-9388-65e7ae7fb54c",
   "metadata": {},
   "outputs": [
    {
     "name": "stderr",
     "output_type": "stream",
     "text": [
      "Some weights of the model checkpoint at bert-base-uncased were not used when initializing BertForSequenceClassification: ['cls.predictions.bias', 'cls.predictions.transform.dense.bias', 'cls.predictions.transform.dense.weight', 'cls.predictions.transform.LayerNorm.weight', 'cls.predictions.transform.LayerNorm.bias', 'cls.seq_relationship.bias', 'cls.seq_relationship.weight']\n",
      "- This IS expected if you are initializing BertForSequenceClassification from the checkpoint of a model trained on another task or with another architecture (e.g. initializing a BertForSequenceClassification model from a BertForPreTraining model).\n",
      "- This IS NOT expected if you are initializing BertForSequenceClassification from the checkpoint of a model that you expect to be exactly identical (initializing a BertForSequenceClassification model from a BertForSequenceClassification model).\n",
      "Some weights of BertForSequenceClassification were not initialized from the model checkpoint at bert-base-uncased and are newly initialized: ['classifier.bias', 'classifier.weight']\n",
      "You should probably TRAIN this model on a down-stream task to be able to use it for predictions and inference.\n"
     ]
    },
    {
     "data": {
      "text/plain": [
       "BertForSequenceClassification(\n",
       "  (bert): BertModel(\n",
       "    (embeddings): BertEmbeddings(\n",
       "      (word_embeddings): Embedding(30522, 768, padding_idx=0)\n",
       "      (position_embeddings): Embedding(512, 768)\n",
       "      (token_type_embeddings): Embedding(2, 768)\n",
       "      (LayerNorm): LayerNorm((768,), eps=1e-12, elementwise_affine=True)\n",
       "      (dropout): Dropout(p=0.1, inplace=False)\n",
       "    )\n",
       "    (encoder): BertEncoder(\n",
       "      (layer): ModuleList(\n",
       "        (0-11): 12 x BertLayer(\n",
       "          (attention): BertAttention(\n",
       "            (self): BertSelfAttention(\n",
       "              (query): Linear(in_features=768, out_features=768, bias=True)\n",
       "              (key): Linear(in_features=768, out_features=768, bias=True)\n",
       "              (value): Linear(in_features=768, out_features=768, bias=True)\n",
       "              (dropout): Dropout(p=0.1, inplace=False)\n",
       "            )\n",
       "            (output): BertSelfOutput(\n",
       "              (dense): Linear(in_features=768, out_features=768, bias=True)\n",
       "              (LayerNorm): LayerNorm((768,), eps=1e-12, elementwise_affine=True)\n",
       "              (dropout): Dropout(p=0.1, inplace=False)\n",
       "            )\n",
       "          )\n",
       "          (intermediate): BertIntermediate(\n",
       "            (dense): Linear(in_features=768, out_features=3072, bias=True)\n",
       "            (intermediate_act_fn): GELUActivation()\n",
       "          )\n",
       "          (output): BertOutput(\n",
       "            (dense): Linear(in_features=3072, out_features=768, bias=True)\n",
       "            (LayerNorm): LayerNorm((768,), eps=1e-12, elementwise_affine=True)\n",
       "            (dropout): Dropout(p=0.1, inplace=False)\n",
       "          )\n",
       "        )\n",
       "      )\n",
       "    )\n",
       "    (pooler): BertPooler(\n",
       "      (dense): Linear(in_features=768, out_features=768, bias=True)\n",
       "      (activation): Tanh()\n",
       "    )\n",
       "  )\n",
       "  (dropout): Dropout(p=0.1, inplace=False)\n",
       "  (classifier): Linear(in_features=768, out_features=3, bias=True)\n",
       ")"
      ]
     },
     "execution_count": 220,
     "metadata": {},
     "output_type": "execute_result"
    }
   ],
   "source": [
    "model = BertForSequenceClassification.from_pretrained(model_id,\n",
    "                                                      num_labels=nb_labels,\n",
    "                                                      output_attentions=False,\n",
    "                                                      output_hidden_states=False)\n",
    "\n",
    "model.to(device)"
   ]
  },
  {
   "cell_type": "code",
   "execution_count": 221,
   "id": "ab37f624-dceb-4fa6-bd15-bcb6dafc4f06",
   "metadata": {},
   "outputs": [
    {
     "data": {
      "text/plain": [
       "<All keys matched successfully>"
      ]
     },
     "execution_count": 221,
     "metadata": {},
     "output_type": "execute_result"
    }
   ],
   "source": [
    "#model.load_state_dict(torch.load('data_volume/finetuned_BERT_epoch_1.model', map_location=torch.device('cpu')))\n",
    "model.load_state_dict(torch.load('data_volume2/finetuned_BERT_base_uncased_DQD_epoch_2.model', map_location=torch.device('cpu')))"
   ]
  },
  {
   "cell_type": "code",
   "execution_count": 186,
   "id": "90cd6fc1-a989-4047-b95e-630105206ae9",
   "metadata": {},
   "outputs": [],
   "source": [
    "_, predictions, true_vals = evaluate(dataloader_validation)"
   ]
  },
  {
   "cell_type": "code",
   "execution_count": 222,
   "id": "49f5b704-7cd9-4051-a1f9-3f077c26b0d3",
   "metadata": {},
   "outputs": [],
   "source": [
    "_, predictions_test, true_test = evaluate(dataloader_test)"
   ]
  },
  {
   "cell_type": "code",
   "execution_count": 98,
   "id": "05a1a430-8555-453d-9068-59f7339c1d5d",
   "metadata": {},
   "outputs": [
    {
     "data": {
      "text/html": [
       "<div>\n",
       "<style scoped>\n",
       "    .dataframe tbody tr th:only-of-type {\n",
       "        vertical-align: middle;\n",
       "    }\n",
       "\n",
       "    .dataframe tbody tr th {\n",
       "        vertical-align: top;\n",
       "    }\n",
       "\n",
       "    .dataframe thead th {\n",
       "        text-align: right;\n",
       "    }\n",
       "</style>\n",
       "<table border=\"1\" class=\"dataframe\">\n",
       "  <thead>\n",
       "    <tr style=\"text-align: right;\">\n",
       "      <th></th>\n",
       "      <th>reviewText</th>\n",
       "      <th>labels</th>\n",
       "      <th>product_category</th>\n",
       "      <th>num_labels</th>\n",
       "      <th>data_type</th>\n",
       "    </tr>\n",
       "  </thead>\n",
       "  <tbody>\n",
       "    <tr>\n",
       "      <th>0</th>\n",
       "      <td>Used it 3 times...now leaking oil...what a POS.</td>\n",
       "      <td>Quality</td>\n",
       "      <td>mower</td>\n",
       "      <td>1</td>\n",
       "      <td>not_set</td>\n",
       "    </tr>\n",
       "    <tr>\n",
       "      <th>1</th>\n",
       "      <td>I don't like how the throttle works. It is har...</td>\n",
       "      <td>Design/Functionality</td>\n",
       "      <td>mower</td>\n",
       "      <td>2</td>\n",
       "      <td>train</td>\n",
       "    </tr>\n",
       "    <tr>\n",
       "      <th>2</th>\n",
       "      <td>Here's the real deal on these new cheap Poulan...</td>\n",
       "      <td>Design/Functionality</td>\n",
       "      <td>mower</td>\n",
       "      <td>2</td>\n",
       "      <td>train</td>\n",
       "    </tr>\n",
       "    <tr>\n",
       "      <th>3</th>\n",
       "      <td>If you are looking for a manual push mower you...</td>\n",
       "      <td>Design/Functionality</td>\n",
       "      <td>mower</td>\n",
       "      <td>2</td>\n",
       "      <td>val</td>\n",
       "    </tr>\n",
       "    <tr>\n",
       "      <th>4</th>\n",
       "      <td>DO NOT BUY\\nI used this twice and it stopped w...</td>\n",
       "      <td>Quality</td>\n",
       "      <td>mower</td>\n",
       "      <td>1</td>\n",
       "      <td>val</td>\n",
       "    </tr>\n",
       "  </tbody>\n",
       "</table>\n",
       "</div>"
      ],
      "text/plain": [
       "                                          reviewText                labels  \\\n",
       "0    Used it 3 times...now leaking oil...what a POS.               Quality   \n",
       "1  I don't like how the throttle works. It is har...  Design/Functionality   \n",
       "2  Here's the real deal on these new cheap Poulan...  Design/Functionality   \n",
       "3  If you are looking for a manual push mower you...  Design/Functionality   \n",
       "4  DO NOT BUY\\nI used this twice and it stopped w...               Quality   \n",
       "\n",
       "  product_category  num_labels data_type  \n",
       "0            mower           1   not_set  \n",
       "1            mower           2     train  \n",
       "2            mower           2     train  \n",
       "3            mower           2       val  \n",
       "4            mower           1       val  "
      ]
     },
     "execution_count": 98,
     "metadata": {},
     "output_type": "execute_result"
    }
   ],
   "source": [
    "df.head()"
   ]
  },
  {
   "cell_type": "code",
   "execution_count": 99,
   "id": "f7396fb4-1e3c-47a0-b707-e2642696b0bf",
   "metadata": {},
   "outputs": [],
   "source": [
    "# n_class = nb_labels  # number of classes\n",
    "# label_list = []\n",
    "# for i in range(n_class):\n",
    "#     label_list.append(df.columns[i+4]) #add 4 to start at first manual label column which is Delivery/Packaging"
   ]
  },
  {
   "cell_type": "code",
   "execution_count": 100,
   "id": "fa7903d0-1d09-4b45-bd14-03d04a3d8206",
   "metadata": {},
   "outputs": [],
   "source": [
    "# label_dict = {}\n",
    "# for k in range(len(label_list)):\n",
    "#     label_dict[label_list[k]] = k #do not need to subtract 1 here to match above labeling system since range already subtracts 1\n",
    "# label_dict"
   ]
  },
  {
   "cell_type": "code",
   "execution_count": 101,
   "id": "f909fdd8-c695-4cae-ad45-804aa63cf231",
   "metadata": {},
   "outputs": [],
   "source": [
    "label_dict = {\n",
    "    'Delivery/Packaging': 0,\n",
    "    'Quality': 1,\n",
    "    'Design/Functionality': 2\n",
    "    # ,'Information': 3,\n",
    "    # 'Other': 4\n",
    "    # ,'Service': 5,\n",
    "    # 'Value': 6\n",
    "}"
   ]
  },
  {
   "cell_type": "code",
   "execution_count": 192,
   "id": "0e282db0-a4e3-48db-8fcb-12c17508807a",
   "metadata": {},
   "outputs": [
    {
     "name": "stdout",
     "output_type": "stream",
     "text": [
      "Class: Delivery/Packaging\n",
      "Accuracy: 67/73\n",
      "\n",
      "Class: Quality\n",
      "Accuracy: 74/85\n",
      "\n",
      "Class: Design/Functionality\n",
      "Accuracy: 65/76\n",
      "\n"
     ]
    }
   ],
   "source": [
    "accuracy_per_class(predictions, true_vals)"
   ]
  },
  {
   "cell_type": "code",
   "execution_count": 223,
   "id": "cdb3ece5-ed5b-4e71-8369-d2f2f7b9d650",
   "metadata": {},
   "outputs": [
    {
     "name": "stdout",
     "output_type": "stream",
     "text": [
      "Class: Delivery/Packaging\n",
      "Accuracy: 66/73\n",
      "\n",
      "Class: Quality\n",
      "Accuracy: 67/85\n",
      "\n",
      "Class: Design/Functionality\n",
      "Accuracy: 63/76\n",
      "\n"
     ]
    }
   ],
   "source": [
    "accuracy_per_class(predictions_test, true_test)"
   ]
  },
  {
   "cell_type": "code",
   "execution_count": 187,
   "id": "a6db23af-57d7-4f5d-a4e2-d9b546ca6c47",
   "metadata": {},
   "outputs": [
    {
     "data": {
      "text/plain": [
       "0.880478920621355"
      ]
     },
     "execution_count": 187,
     "metadata": {},
     "output_type": "execute_result"
    }
   ],
   "source": [
    "f1_score_func(predictions, true_vals)"
   ]
  },
  {
   "cell_type": "code",
   "execution_count": 224,
   "id": "17ea559f-9f12-4437-8794-f522c2b5962b",
   "metadata": {},
   "outputs": [
    {
     "data": {
      "text/plain": [
       "0.837337071580769"
      ]
     },
     "execution_count": 224,
     "metadata": {},
     "output_type": "execute_result"
    }
   ],
   "source": [
    "f1_score_func(predictions_test, true_test)"
   ]
  },
  {
   "cell_type": "code",
   "execution_count": 188,
   "id": "ec2d1782-7d28-43d3-91cc-43ce493814e9",
   "metadata": {},
   "outputs": [],
   "source": [
    "precision, recall, f1_score = f1_score_byClass(predictions, true_vals)"
   ]
  },
  {
   "cell_type": "code",
   "execution_count": 225,
   "id": "1b61b60b-3188-4c08-894b-ec581152f1fa",
   "metadata": {},
   "outputs": [],
   "source": [
    "precision, recall, f1_score = f1_score_byClass(predictions_test, true_test)"
   ]
  },
  {
   "cell_type": "code",
   "execution_count": 226,
   "id": "b7191d14-5835-4c4f-8152-09eefd9a9978",
   "metadata": {},
   "outputs": [
    {
     "name": "stdout",
     "output_type": "stream",
     "text": [
      "Delivery/ Packaging Precision: 0.892\n",
      "Quality Precision: 0.807\n",
      "Design/Functionality Precision: 0.818\n"
     ]
    }
   ],
   "source": [
    "categories = ['Delivery/ Packaging', 'Quality', 'Design/Functionality']\n",
    "for i, k in enumerate(precision):\n",
    "    print(f'{categories[i]} Precision: {k:.3f}')"
   ]
  },
  {
   "cell_type": "code",
   "execution_count": 227,
   "id": "6ad1eee3-f686-4a4c-9e5c-ceba40eff4ac",
   "metadata": {},
   "outputs": [
    {
     "name": "stdout",
     "output_type": "stream",
     "text": [
      "Delivery/ Packaging Recall: 0.904\n",
      "Quality Recall: 0.788\n",
      "Design/Functionality Recall: 0.829\n"
     ]
    }
   ],
   "source": [
    "categories = ['Delivery/ Packaging', 'Quality', 'Design/Functionality']\n",
    "for i, k in enumerate(recall):\n",
    "    print(f'{categories[i]} Recall: {k:.3f}')"
   ]
  },
  {
   "cell_type": "code",
   "execution_count": 228,
   "id": "1b7682aa-edec-4d5b-a7a9-92a27f0ca991",
   "metadata": {},
   "outputs": [
    {
     "name": "stdout",
     "output_type": "stream",
     "text": [
      "Delivery/ Packaging F1-score: 0.898\n",
      "Quality F1-score: 0.798\n",
      "Design/Functionality F1-score: 0.824\n"
     ]
    }
   ],
   "source": [
    "categories = ['Delivery/ Packaging', 'Quality', 'Design/Functionality']\n",
    "for i, k in enumerate(f1_score):\n",
    "    print(f'{categories[i]} F1-score: {k:.3f}')"
   ]
  },
  {
   "cell_type": "code",
   "execution_count": 40,
   "id": "e80baffe-ff86-4dc2-913b-01ba138123c0",
   "metadata": {},
   "outputs": [
    {
     "data": {
      "text/plain": [
       "\"For what boils down to a mini-fridge the kegerator is priced way too high. The one I received had a crooked door. All of the metal is rusted after two years, don't believe any stainless claims.\""
      ]
     },
     "execution_count": 40,
     "metadata": {},
     "output_type": "execute_result"
    }
   ],
   "source": [
    "ex = df.reviewText[1]\n",
    "ex"
   ]
  },
  {
   "cell_type": "code",
   "execution_count": 41,
   "id": "a38eab90-c621-4986-95ee-c0a33e9d615b",
   "metadata": {},
   "outputs": [
    {
     "data": {
      "text/plain": [
       "'I purchased this for my husband as a present. We are happy with the unit except for the fact that it arrived dented in three places'"
      ]
     },
     "execution_count": 41,
     "metadata": {},
     "output_type": "execute_result"
    }
   ],
   "source": [
    "ex2 = \"I purchased this for my husband as a present. We are happy with the unit except for the fact that it arrived dented in three places\"\n",
    "ex2"
   ]
  },
  {
   "cell_type": "code",
   "execution_count": 42,
   "id": "5100ff1f-34f1-4cc4-b96f-75cc4b8a35d0",
   "metadata": {},
   "outputs": [],
   "source": [
    "def bert_predict(text, model, tokenizer, n_class):\n",
    "    \n",
    "    inputs = tokenizer.encode_plus(\n",
    "        text, \n",
    "        add_special_tokens=True, \n",
    "        return_attention_mask=True, \n",
    "        pad_to_max_length=True, \n",
    "        max_length=256, \n",
    "        return_tensors='pt'\n",
    "    )\n",
    "    model.eval()\n",
    "    with torch.no_grad():    \n",
    "        output = model(**inputs)\n",
    "    \n",
    "    return np.argmax(output[0].detach().numpy(), axis= 1).item()\n",
    "\n"
   ]
  },
  {
   "cell_type": "code",
   "execution_count": 43,
   "id": "a42584a7-9adf-4d11-b69d-c3ec5ec5a875",
   "metadata": {},
   "outputs": [],
   "source": [
    "def predict(row):\n",
    "    review_text = row['reviewText']\n",
    "    predictions = bert_predict(review_text, model, tokenizer, n_class)\n",
    "    return predictions"
   ]
  },
  {
   "cell_type": "code",
   "execution_count": 44,
   "id": "cba88a82-dac2-42b1-ae5f-6f1b7aa8b44f",
   "metadata": {},
   "outputs": [],
   "source": [
    "from tqdm import tqdm"
   ]
  },
  {
   "cell_type": "code",
   "execution_count": 45,
   "id": "6ca1c1a0-4736-4fae-9f2e-3993c8970f60",
   "metadata": {},
   "outputs": [
    {
     "data": {
      "text/plain": [
       "1329"
      ]
     },
     "execution_count": 45,
     "metadata": {},
     "output_type": "execute_result"
    }
   ],
   "source": [
    "len(df)"
   ]
  },
  {
   "cell_type": "code",
   "execution_count": 46,
   "id": "fe620aed-8715-4102-971e-5a4beadb84a3",
   "metadata": {},
   "outputs": [],
   "source": [
    "sample = df"
   ]
  },
  {
   "cell_type": "code",
   "execution_count": 47,
   "id": "454d5502-4824-451c-990d-9a1ed4743a97",
   "metadata": {},
   "outputs": [
    {
     "name": "stderr",
     "output_type": "stream",
     "text": [
      "  0%|                                                  | 0/1329 [00:00<?, ?it/s]/home/ec2-user/anaconda3/lib/python3.10/site-packages/transformers/tokenization_utils_base.py:2377: FutureWarning: The `pad_to_max_length` argument is deprecated and will be removed in a future version, use `padding=True` or `padding='longest'` to pad to the longest sequence in the batch, or use `padding='max_length'` to pad to a max length. In this case, you can give a specific length with `max_length` (e.g. `max_length=45`) or leave max_length to None to pad to the maximal input size of the model (e.g. 512 for Bert).\n",
      "  warnings.warn(\n",
      "100%|███████████████████████████████████████| 1329/1329 [01:17<00:00, 17.14it/s]\n"
     ]
    }
   ],
   "source": [
    "\n",
    "tqdm.pandas()\n",
    "# Apply the predict function to each row of the DataFrame\n",
    "#sample['predictions'] = sample.apply(predict, axis=1)\n",
    "sample['predictions'] = sample.progress_apply(predict, axis=1)"
   ]
  },
  {
   "cell_type": "code",
   "execution_count": 48,
   "id": "c2b16019-15c9-4ee1-a436-f816578da508",
   "metadata": {},
   "outputs": [
    {
     "data": {
      "text/html": [
       "<div>\n",
       "<style scoped>\n",
       "    .dataframe tbody tr th:only-of-type {\n",
       "        vertical-align: middle;\n",
       "    }\n",
       "\n",
       "    .dataframe tbody tr th {\n",
       "        vertical-align: top;\n",
       "    }\n",
       "\n",
       "    .dataframe thead th {\n",
       "        text-align: right;\n",
       "    }\n",
       "</style>\n",
       "<table border=\"1\" class=\"dataframe\">\n",
       "  <thead>\n",
       "    <tr style=\"text-align: right;\">\n",
       "      <th></th>\n",
       "      <th>overall</th>\n",
       "      <th>reviewText</th>\n",
       "      <th>reviewID</th>\n",
       "      <th>GPT Result</th>\n",
       "      <th>Delivery/Packaging</th>\n",
       "      <th>Quality</th>\n",
       "      <th>Design/Functionality</th>\n",
       "      <th>Other</th>\n",
       "      <th>Value</th>\n",
       "      <th>Categories</th>\n",
       "      <th>Label</th>\n",
       "      <th>data_type</th>\n",
       "      <th>predictions</th>\n",
       "    </tr>\n",
       "  </thead>\n",
       "  <tbody>\n",
       "    <tr>\n",
       "      <th>0</th>\n",
       "      <td>3</td>\n",
       "      <td>I purchased this for my husband as a present. ...</td>\n",
       "      <td>1365</td>\n",
       "      <td>Delivery/Packaging</td>\n",
       "      <td>True</td>\n",
       "      <td>False</td>\n",
       "      <td>False</td>\n",
       "      <td>False</td>\n",
       "      <td>False</td>\n",
       "      <td>1</td>\n",
       "      <td>0</td>\n",
       "      <td>train</td>\n",
       "      <td>0</td>\n",
       "    </tr>\n",
       "    <tr>\n",
       "      <th>1</th>\n",
       "      <td>2</td>\n",
       "      <td>For what boils down to a mini-fridge the keger...</td>\n",
       "      <td>1374</td>\n",
       "      <td>Quality</td>\n",
       "      <td>False</td>\n",
       "      <td>True</td>\n",
       "      <td>False</td>\n",
       "      <td>False</td>\n",
       "      <td>False</td>\n",
       "      <td>1</td>\n",
       "      <td>1</td>\n",
       "      <td>val</td>\n",
       "      <td>0</td>\n",
       "    </tr>\n",
       "    <tr>\n",
       "      <th>3</th>\n",
       "      <td>3</td>\n",
       "      <td>The product's casters immediately broke - just...</td>\n",
       "      <td>474503</td>\n",
       "      <td>Quality</td>\n",
       "      <td>False</td>\n",
       "      <td>True</td>\n",
       "      <td>False</td>\n",
       "      <td>False</td>\n",
       "      <td>False</td>\n",
       "      <td>1</td>\n",
       "      <td>1</td>\n",
       "      <td>train</td>\n",
       "      <td>2</td>\n",
       "    </tr>\n",
       "    <tr>\n",
       "      <th>4</th>\n",
       "      <td>1</td>\n",
       "      <td>sent me a cheap one. not the stainless steel o...</td>\n",
       "      <td>474504</td>\n",
       "      <td>Quality</td>\n",
       "      <td>False</td>\n",
       "      <td>True</td>\n",
       "      <td>False</td>\n",
       "      <td>False</td>\n",
       "      <td>False</td>\n",
       "      <td>1</td>\n",
       "      <td>1</td>\n",
       "      <td>train</td>\n",
       "      <td>1</td>\n",
       "    </tr>\n",
       "    <tr>\n",
       "      <th>5</th>\n",
       "      <td>1</td>\n",
       "      <td>I too have had a hard time getting this produc...</td>\n",
       "      <td>7337</td>\n",
       "      <td>Packaging</td>\n",
       "      <td>True</td>\n",
       "      <td>False</td>\n",
       "      <td>False</td>\n",
       "      <td>False</td>\n",
       "      <td>False</td>\n",
       "      <td>1</td>\n",
       "      <td>0</td>\n",
       "      <td>val</td>\n",
       "      <td>1</td>\n",
       "    </tr>\n",
       "    <tr>\n",
       "      <th>...</th>\n",
       "      <td>...</td>\n",
       "      <td>...</td>\n",
       "      <td>...</td>\n",
       "      <td>...</td>\n",
       "      <td>...</td>\n",
       "      <td>...</td>\n",
       "      <td>...</td>\n",
       "      <td>...</td>\n",
       "      <td>...</td>\n",
       "      <td>...</td>\n",
       "      <td>...</td>\n",
       "      <td>...</td>\n",
       "      <td>...</td>\n",
       "    </tr>\n",
       "    <tr>\n",
       "      <th>1372</th>\n",
       "      <td>3</td>\n",
       "      <td>unit arrived with a few dents. markers were dr...</td>\n",
       "      <td>598187</td>\n",
       "      <td>Delivery/Packaging</td>\n",
       "      <td>True</td>\n",
       "      <td>False</td>\n",
       "      <td>False</td>\n",
       "      <td>False</td>\n",
       "      <td>False</td>\n",
       "      <td>1</td>\n",
       "      <td>0</td>\n",
       "      <td>train</td>\n",
       "      <td>0</td>\n",
       "    </tr>\n",
       "    <tr>\n",
       "      <th>1373</th>\n",
       "      <td>1</td>\n",
       "      <td>Came shipped with huge dent on side. Runs cons...</td>\n",
       "      <td>599287</td>\n",
       "      <td>Loading...</td>\n",
       "      <td>True</td>\n",
       "      <td>False</td>\n",
       "      <td>False</td>\n",
       "      <td>False</td>\n",
       "      <td>False</td>\n",
       "      <td>1</td>\n",
       "      <td>0</td>\n",
       "      <td>train</td>\n",
       "      <td>0</td>\n",
       "    </tr>\n",
       "    <tr>\n",
       "      <th>1374</th>\n",
       "      <td>3</td>\n",
       "      <td>The freezer itself work very good. However, th...</td>\n",
       "      <td>599583</td>\n",
       "      <td>Loading...</td>\n",
       "      <td>True</td>\n",
       "      <td>False</td>\n",
       "      <td>False</td>\n",
       "      <td>False</td>\n",
       "      <td>False</td>\n",
       "      <td>1</td>\n",
       "      <td>0</td>\n",
       "      <td>val</td>\n",
       "      <td>0</td>\n",
       "    </tr>\n",
       "    <tr>\n",
       "      <th>1375</th>\n",
       "      <td>2</td>\n",
       "      <td>Item came with dents in right lower end damaged.</td>\n",
       "      <td>599584</td>\n",
       "      <td>Loading...</td>\n",
       "      <td>True</td>\n",
       "      <td>False</td>\n",
       "      <td>False</td>\n",
       "      <td>False</td>\n",
       "      <td>False</td>\n",
       "      <td>1</td>\n",
       "      <td>0</td>\n",
       "      <td>train</td>\n",
       "      <td>0</td>\n",
       "    </tr>\n",
       "    <tr>\n",
       "      <th>1376</th>\n",
       "      <td>3</td>\n",
       "      <td>Received this item dented..I contacted the com...</td>\n",
       "      <td>601233</td>\n",
       "      <td>Loading...</td>\n",
       "      <td>True</td>\n",
       "      <td>False</td>\n",
       "      <td>False</td>\n",
       "      <td>False</td>\n",
       "      <td>False</td>\n",
       "      <td>1</td>\n",
       "      <td>0</td>\n",
       "      <td>train</td>\n",
       "      <td>0</td>\n",
       "    </tr>\n",
       "  </tbody>\n",
       "</table>\n",
       "<p>1329 rows × 13 columns</p>\n",
       "</div>"
      ],
      "text/plain": [
       "      overall                                         reviewText  reviewID  \\\n",
       "0           3  I purchased this for my husband as a present. ...      1365   \n",
       "1           2  For what boils down to a mini-fridge the keger...      1374   \n",
       "3           3  The product's casters immediately broke - just...    474503   \n",
       "4           1  sent me a cheap one. not the stainless steel o...    474504   \n",
       "5           1  I too have had a hard time getting this produc...      7337   \n",
       "...       ...                                                ...       ...   \n",
       "1372        3  unit arrived with a few dents. markers were dr...    598187   \n",
       "1373        1  Came shipped with huge dent on side. Runs cons...    599287   \n",
       "1374        3  The freezer itself work very good. However, th...    599583   \n",
       "1375        2   Item came with dents in right lower end damaged.    599584   \n",
       "1376        3  Received this item dented..I contacted the com...    601233   \n",
       "\n",
       "              GPT Result  Delivery/Packaging  Quality  Design/Functionality  \\\n",
       "0     Delivery/Packaging                True    False                 False   \n",
       "1                Quality               False     True                 False   \n",
       "3                Quality               False     True                 False   \n",
       "4                Quality               False     True                 False   \n",
       "5              Packaging                True    False                 False   \n",
       "...                  ...                 ...      ...                   ...   \n",
       "1372  Delivery/Packaging                True    False                 False   \n",
       "1373          Loading...                True    False                 False   \n",
       "1374          Loading...                True    False                 False   \n",
       "1375          Loading...                True    False                 False   \n",
       "1376          Loading...                True    False                 False   \n",
       "\n",
       "      Other  Value  Categories  Label data_type  predictions  \n",
       "0     False  False           1      0     train            0  \n",
       "1     False  False           1      1       val            0  \n",
       "3     False  False           1      1     train            2  \n",
       "4     False  False           1      1     train            1  \n",
       "5     False  False           1      0       val            1  \n",
       "...     ...    ...         ...    ...       ...          ...  \n",
       "1372  False  False           1      0     train            0  \n",
       "1373  False  False           1      0     train            0  \n",
       "1374  False  False           1      0       val            0  \n",
       "1375  False  False           1      0     train            0  \n",
       "1376  False  False           1      0     train            0  \n",
       "\n",
       "[1329 rows x 13 columns]"
      ]
     },
     "execution_count": 48,
     "metadata": {},
     "output_type": "execute_result"
    }
   ],
   "source": [
    "sample"
   ]
  },
  {
   "cell_type": "code",
   "execution_count": 49,
   "id": "d51f3080-6b5b-4ffc-a46f-9c5198ff917f",
   "metadata": {},
   "outputs": [
    {
     "name": "stderr",
     "output_type": "stream",
     "text": [
      "  0%|                                                  | 0/6250 [00:00<?, ?it/s]/home/ec2-user/anaconda3/lib/python3.10/site-packages/transformers/tokenization_utils_base.py:2377: FutureWarning: The `pad_to_max_length` argument is deprecated and will be removed in a future version, use `padding=True` or `padding='longest'` to pad to the longest sequence in the batch, or use `padding='max_length'` to pad to a max length. In this case, you can give a specific length with `max_length` (e.g. `max_length=45`) or leave max_length to None to pad to the maximal input size of the model (e.g. 512 for Bert).\n",
      "  warnings.warn(\n",
      "100%|███████████████████████████████████████| 6250/6250 [06:03<00:00, 17.20it/s]\n"
     ]
    }
   ],
   "source": [
    "#add predictions for entire df_fridge dataset for about 6000 entries\n",
    "tableau_data = pd.read_csv('df_fridge.csv')\n",
    "tableau_data['predictions'] = tableau_data.progress_apply(predict, axis=1)"
   ]
  },
  {
   "cell_type": "code",
   "execution_count": 50,
   "id": "258511de-6f91-48a6-b4a4-919328fe7107",
   "metadata": {},
   "outputs": [
    {
     "data": {
      "text/html": [
       "<div>\n",
       "<style scoped>\n",
       "    .dataframe tbody tr th:only-of-type {\n",
       "        vertical-align: middle;\n",
       "    }\n",
       "\n",
       "    .dataframe tbody tr th {\n",
       "        vertical-align: top;\n",
       "    }\n",
       "\n",
       "    .dataframe thead th {\n",
       "        text-align: right;\n",
       "    }\n",
       "</style>\n",
       "<table border=\"1\" class=\"dataframe\">\n",
       "  <thead>\n",
       "    <tr style=\"text-align: right;\">\n",
       "      <th></th>\n",
       "      <th>overall</th>\n",
       "      <th>vote</th>\n",
       "      <th>verified</th>\n",
       "      <th>reviewTime</th>\n",
       "      <th>reviewerID</th>\n",
       "      <th>asin</th>\n",
       "      <th>style</th>\n",
       "      <th>reviewerName</th>\n",
       "      <th>reviewText</th>\n",
       "      <th>summary</th>\n",
       "      <th>...</th>\n",
       "      <th>rank</th>\n",
       "      <th>also_view</th>\n",
       "      <th>details</th>\n",
       "      <th>main_cat</th>\n",
       "      <th>similar_item</th>\n",
       "      <th>date</th>\n",
       "      <th>price</th>\n",
       "      <th>imageURL</th>\n",
       "      <th>imageURLHighRes</th>\n",
       "      <th>predictions</th>\n",
       "    </tr>\n",
       "  </thead>\n",
       "  <tbody>\n",
       "    <tr>\n",
       "      <th>0</th>\n",
       "      <td>3</td>\n",
       "      <td>NaN</td>\n",
       "      <td>False</td>\n",
       "      <td>09 7, 2009</td>\n",
       "      <td>A38TZ2NJ97APSO</td>\n",
       "      <td>B00006JKZX</td>\n",
       "      <td>NaN</td>\n",
       "      <td>J. Lussier</td>\n",
       "      <td>I purchased this for my husband as a present. ...</td>\n",
       "      <td>Happy with product</td>\n",
       "      <td>...</td>\n",
       "      <td>['&gt;#25,110 in Appliances (See top 100)', '&gt;#23...</td>\n",
       "      <td>['B0170NWHDM', 'B000HJVYDQ', 'B0170O0D82', 'B0...</td>\n",
       "      <td>{}</td>\n",
       "      <td>Appliances</td>\n",
       "      <td>class=\"a-bordered a-horizontal-stripes  a-spa...</td>\n",
       "      <td>June 6, 2007</td>\n",
       "      <td>NaN</td>\n",
       "      <td>[]</td>\n",
       "      <td>[]</td>\n",
       "      <td>0</td>\n",
       "    </tr>\n",
       "    <tr>\n",
       "      <th>1</th>\n",
       "      <td>2</td>\n",
       "      <td>NaN</td>\n",
       "      <td>False</td>\n",
       "      <td>10 23, 2007</td>\n",
       "      <td>A35QRTOA6YLJXF</td>\n",
       "      <td>B00006JKZX</td>\n",
       "      <td>NaN</td>\n",
       "      <td>Cliff H</td>\n",
       "      <td>For what boils down to a mini-fridge the keger...</td>\n",
       "      <td>Lousy Fit &amp; Finish, High Price</td>\n",
       "      <td>...</td>\n",
       "      <td>['&gt;#25,110 in Appliances (See top 100)', '&gt;#23...</td>\n",
       "      <td>['B0170NWHDM', 'B000HJVYDQ', 'B0170O0D82', 'B0...</td>\n",
       "      <td>{}</td>\n",
       "      <td>Appliances</td>\n",
       "      <td>class=\"a-bordered a-horizontal-stripes  a-spa...</td>\n",
       "      <td>June 6, 2007</td>\n",
       "      <td>NaN</td>\n",
       "      <td>[]</td>\n",
       "      <td>[]</td>\n",
       "      <td>0</td>\n",
       "    </tr>\n",
       "    <tr>\n",
       "      <th>2</th>\n",
       "      <td>1</td>\n",
       "      <td>NaN</td>\n",
       "      <td>False</td>\n",
       "      <td>12 13, 2012</td>\n",
       "      <td>ACFO1BTLWH43O</td>\n",
       "      <td>B00006JKZX</td>\n",
       "      <td>NaN</td>\n",
       "      <td>Jeff</td>\n",
       "      <td>You can get this exact same product at walmart...</td>\n",
       "      <td>Same thing better price</td>\n",
       "      <td>...</td>\n",
       "      <td>['&gt;#25,110 in Appliances (See top 100)', '&gt;#23...</td>\n",
       "      <td>['B0170NWHDM', 'B000HJVYDQ', 'B0170O0D82', 'B0...</td>\n",
       "      <td>{}</td>\n",
       "      <td>Appliances</td>\n",
       "      <td>class=\"a-bordered a-horizontal-stripes  a-spa...</td>\n",
       "      <td>June 6, 2007</td>\n",
       "      <td>NaN</td>\n",
       "      <td>[]</td>\n",
       "      <td>[]</td>\n",
       "      <td>1</td>\n",
       "    </tr>\n",
       "    <tr>\n",
       "      <th>3</th>\n",
       "      <td>3</td>\n",
       "      <td>NaN</td>\n",
       "      <td>True</td>\n",
       "      <td>04 1, 2013</td>\n",
       "      <td>A2MAD6PK9AUCS1</td>\n",
       "      <td>B0000AYKNR</td>\n",
       "      <td>NaN</td>\n",
       "      <td>Matthew Overin</td>\n",
       "      <td>The product's casters immediately broke - just...</td>\n",
       "      <td>Not the Best Value</td>\n",
       "      <td>...</td>\n",
       "      <td>['&gt;#17,384 in Appliances (See top 100)', '&gt;#16...</td>\n",
       "      <td>['B00YW50UX6', 'B0170NWHDM', 'B0170O0D82', 'B0...</td>\n",
       "      <td>{}</td>\n",
       "      <td>Appliances</td>\n",
       "      <td>class=\"a-bordered a-horizontal-stripes  a-spa...</td>\n",
       "      <td>October 18, 2007</td>\n",
       "      <td>NaN</td>\n",
       "      <td>[]</td>\n",
       "      <td>[]</td>\n",
       "      <td>2</td>\n",
       "    </tr>\n",
       "    <tr>\n",
       "      <th>4</th>\n",
       "      <td>1</td>\n",
       "      <td>NaN</td>\n",
       "      <td>False</td>\n",
       "      <td>02 9, 2012</td>\n",
       "      <td>A7CCVYNSG2Q5B</td>\n",
       "      <td>B0000AYKNR</td>\n",
       "      <td>NaN</td>\n",
       "      <td>annoyed</td>\n",
       "      <td>sent me a cheap one.  not the stainless steel ...</td>\n",
       "      <td>wrong one</td>\n",
       "      <td>...</td>\n",
       "      <td>['&gt;#17,384 in Appliances (See top 100)', '&gt;#16...</td>\n",
       "      <td>['B00YW50UX6', 'B0170NWHDM', 'B0170O0D82', 'B0...</td>\n",
       "      <td>{}</td>\n",
       "      <td>Appliances</td>\n",
       "      <td>class=\"a-bordered a-horizontal-stripes  a-spa...</td>\n",
       "      <td>October 18, 2007</td>\n",
       "      <td>NaN</td>\n",
       "      <td>[]</td>\n",
       "      <td>[]</td>\n",
       "      <td>1</td>\n",
       "    </tr>\n",
       "  </tbody>\n",
       "</table>\n",
       "<p>5 rows × 32 columns</p>\n",
       "</div>"
      ],
      "text/plain": [
       "   overall  vote  verified   reviewTime      reviewerID        asin style  \\\n",
       "0        3   NaN     False   09 7, 2009  A38TZ2NJ97APSO  B00006JKZX   NaN   \n",
       "1        2   NaN     False  10 23, 2007  A35QRTOA6YLJXF  B00006JKZX   NaN   \n",
       "2        1   NaN     False  12 13, 2012   ACFO1BTLWH43O  B00006JKZX   NaN   \n",
       "3        3   NaN      True   04 1, 2013  A2MAD6PK9AUCS1  B0000AYKNR   NaN   \n",
       "4        1   NaN     False   02 9, 2012   A7CCVYNSG2Q5B  B0000AYKNR   NaN   \n",
       "\n",
       "     reviewerName                                         reviewText  \\\n",
       "0      J. Lussier  I purchased this for my husband as a present. ...   \n",
       "1         Cliff H  For what boils down to a mini-fridge the keger...   \n",
       "2            Jeff  You can get this exact same product at walmart...   \n",
       "3  Matthew Overin  The product's casters immediately broke - just...   \n",
       "4         annoyed  sent me a cheap one.  not the stainless steel ...   \n",
       "\n",
       "                          summary  ...  \\\n",
       "0              Happy with product  ...   \n",
       "1  Lousy Fit & Finish, High Price  ...   \n",
       "2         Same thing better price  ...   \n",
       "3              Not the Best Value  ...   \n",
       "4                       wrong one  ...   \n",
       "\n",
       "                                                rank  \\\n",
       "0  ['>#25,110 in Appliances (See top 100)', '>#23...   \n",
       "1  ['>#25,110 in Appliances (See top 100)', '>#23...   \n",
       "2  ['>#25,110 in Appliances (See top 100)', '>#23...   \n",
       "3  ['>#17,384 in Appliances (See top 100)', '>#16...   \n",
       "4  ['>#17,384 in Appliances (See top 100)', '>#16...   \n",
       "\n",
       "                                           also_view  details    main_cat  \\\n",
       "0  ['B0170NWHDM', 'B000HJVYDQ', 'B0170O0D82', 'B0...       {}  Appliances   \n",
       "1  ['B0170NWHDM', 'B000HJVYDQ', 'B0170O0D82', 'B0...       {}  Appliances   \n",
       "2  ['B0170NWHDM', 'B000HJVYDQ', 'B0170O0D82', 'B0...       {}  Appliances   \n",
       "3  ['B00YW50UX6', 'B0170NWHDM', 'B0170O0D82', 'B0...       {}  Appliances   \n",
       "4  ['B00YW50UX6', 'B0170NWHDM', 'B0170O0D82', 'B0...       {}  Appliances   \n",
       "\n",
       "                                        similar_item              date  price  \\\n",
       "0   class=\"a-bordered a-horizontal-stripes  a-spa...      June 6, 2007    NaN   \n",
       "1   class=\"a-bordered a-horizontal-stripes  a-spa...      June 6, 2007    NaN   \n",
       "2   class=\"a-bordered a-horizontal-stripes  a-spa...      June 6, 2007    NaN   \n",
       "3   class=\"a-bordered a-horizontal-stripes  a-spa...  October 18, 2007    NaN   \n",
       "4   class=\"a-bordered a-horizontal-stripes  a-spa...  October 18, 2007    NaN   \n",
       "\n",
       "  imageURL imageURLHighRes  predictions  \n",
       "0       []              []            0  \n",
       "1       []              []            0  \n",
       "2       []              []            1  \n",
       "3       []              []            2  \n",
       "4       []              []            1  \n",
       "\n",
       "[5 rows x 32 columns]"
      ]
     },
     "execution_count": 50,
     "metadata": {},
     "output_type": "execute_result"
    }
   ],
   "source": [
    "tableau_data.head()"
   ]
  },
  {
   "cell_type": "code",
   "execution_count": 51,
   "id": "35d1b3b1-1257-48b0-97af-2e000b411ae1",
   "metadata": {},
   "outputs": [
    {
     "data": {
      "text/plain": [
       "numpy.int64"
      ]
     },
     "execution_count": 51,
     "metadata": {},
     "output_type": "execute_result"
    }
   ],
   "source": [
    "type(tableau_data['predictions'][1])"
   ]
  },
  {
   "cell_type": "code",
   "execution_count": 52,
   "id": "f8abcf03-07eb-4009-a465-f09504495ff7",
   "metadata": {},
   "outputs": [],
   "source": [
    "labels_dict = {0: 'Delivery/ Packaging', 1: 'Quality', 2: 'Design/Functionality'}"
   ]
  },
  {
   "cell_type": "code",
   "execution_count": 53,
   "id": "44462145-b095-4ccf-97a6-5023f2909d08",
   "metadata": {},
   "outputs": [],
   "source": [
    "tableau_predCat = tableau_data.copy()"
   ]
  },
  {
   "cell_type": "code",
   "execution_count": 54,
   "id": "237f2212-955c-440b-9fde-8a4c4e1ebaeb",
   "metadata": {},
   "outputs": [],
   "source": [
    "tableau_predCat['predictions'] = tableau_predCat['predictions'].map(labels_dict)"
   ]
  },
  {
   "cell_type": "code",
   "execution_count": 58,
   "id": "8b8b1d66-3a5b-47db-a80e-4194834dcc88",
   "metadata": {},
   "outputs": [],
   "source": [
    "import ast\n",
    "tableau_predCat['imageURLHighRes'] = tableau_predCat['imageURLHighRes'].apply(ast.literal_eval)"
   ]
  },
  {
   "cell_type": "code",
   "execution_count": 59,
   "id": "a580bf61-39ef-4c25-a561-ef3d496bc649",
   "metadata": {},
   "outputs": [],
   "source": [
    "tableau_predCat['firstImageURL'] = tableau_predCat['imageURLHighRes'].apply(lambda x: x[0] if isinstance(x, list) and len(x) > 0 else None)"
   ]
  },
  {
   "cell_type": "code",
   "execution_count": 60,
   "id": "824af4c0-5aea-435b-a14f-85a6a4872bf6",
   "metadata": {},
   "outputs": [
    {
     "data": {
      "text/html": [
       "<div>\n",
       "<style scoped>\n",
       "    .dataframe tbody tr th:only-of-type {\n",
       "        vertical-align: middle;\n",
       "    }\n",
       "\n",
       "    .dataframe tbody tr th {\n",
       "        vertical-align: top;\n",
       "    }\n",
       "\n",
       "    .dataframe thead th {\n",
       "        text-align: right;\n",
       "    }\n",
       "</style>\n",
       "<table border=\"1\" class=\"dataframe\">\n",
       "  <thead>\n",
       "    <tr style=\"text-align: right;\">\n",
       "      <th></th>\n",
       "      <th>overall</th>\n",
       "      <th>vote</th>\n",
       "      <th>verified</th>\n",
       "      <th>reviewTime</th>\n",
       "      <th>reviewerID</th>\n",
       "      <th>asin</th>\n",
       "      <th>style</th>\n",
       "      <th>reviewerName</th>\n",
       "      <th>reviewText</th>\n",
       "      <th>summary</th>\n",
       "      <th>...</th>\n",
       "      <th>also_view</th>\n",
       "      <th>details</th>\n",
       "      <th>main_cat</th>\n",
       "      <th>similar_item</th>\n",
       "      <th>date</th>\n",
       "      <th>price</th>\n",
       "      <th>imageURL</th>\n",
       "      <th>imageURLHighRes</th>\n",
       "      <th>predictions</th>\n",
       "      <th>firstImageURL</th>\n",
       "    </tr>\n",
       "  </thead>\n",
       "  <tbody>\n",
       "    <tr>\n",
       "      <th>0</th>\n",
       "      <td>3</td>\n",
       "      <td>NaN</td>\n",
       "      <td>False</td>\n",
       "      <td>09 7, 2009</td>\n",
       "      <td>A38TZ2NJ97APSO</td>\n",
       "      <td>B00006JKZX</td>\n",
       "      <td>NaN</td>\n",
       "      <td>J. Lussier</td>\n",
       "      <td>I purchased this for my husband as a present. ...</td>\n",
       "      <td>Happy with product</td>\n",
       "      <td>...</td>\n",
       "      <td>['B0170NWHDM', 'B000HJVYDQ', 'B0170O0D82', 'B0...</td>\n",
       "      <td>{}</td>\n",
       "      <td>Appliances</td>\n",
       "      <td>class=\"a-bordered a-horizontal-stripes  a-spa...</td>\n",
       "      <td>June 6, 2007</td>\n",
       "      <td>NaN</td>\n",
       "      <td>[]</td>\n",
       "      <td>[]</td>\n",
       "      <td>Delivery/ Packaging</td>\n",
       "      <td>None</td>\n",
       "    </tr>\n",
       "    <tr>\n",
       "      <th>1</th>\n",
       "      <td>2</td>\n",
       "      <td>NaN</td>\n",
       "      <td>False</td>\n",
       "      <td>10 23, 2007</td>\n",
       "      <td>A35QRTOA6YLJXF</td>\n",
       "      <td>B00006JKZX</td>\n",
       "      <td>NaN</td>\n",
       "      <td>Cliff H</td>\n",
       "      <td>For what boils down to a mini-fridge the keger...</td>\n",
       "      <td>Lousy Fit &amp; Finish, High Price</td>\n",
       "      <td>...</td>\n",
       "      <td>['B0170NWHDM', 'B000HJVYDQ', 'B0170O0D82', 'B0...</td>\n",
       "      <td>{}</td>\n",
       "      <td>Appliances</td>\n",
       "      <td>class=\"a-bordered a-horizontal-stripes  a-spa...</td>\n",
       "      <td>June 6, 2007</td>\n",
       "      <td>NaN</td>\n",
       "      <td>[]</td>\n",
       "      <td>[]</td>\n",
       "      <td>Delivery/ Packaging</td>\n",
       "      <td>None</td>\n",
       "    </tr>\n",
       "    <tr>\n",
       "      <th>2</th>\n",
       "      <td>1</td>\n",
       "      <td>NaN</td>\n",
       "      <td>False</td>\n",
       "      <td>12 13, 2012</td>\n",
       "      <td>ACFO1BTLWH43O</td>\n",
       "      <td>B00006JKZX</td>\n",
       "      <td>NaN</td>\n",
       "      <td>Jeff</td>\n",
       "      <td>You can get this exact same product at walmart...</td>\n",
       "      <td>Same thing better price</td>\n",
       "      <td>...</td>\n",
       "      <td>['B0170NWHDM', 'B000HJVYDQ', 'B0170O0D82', 'B0...</td>\n",
       "      <td>{}</td>\n",
       "      <td>Appliances</td>\n",
       "      <td>class=\"a-bordered a-horizontal-stripes  a-spa...</td>\n",
       "      <td>June 6, 2007</td>\n",
       "      <td>NaN</td>\n",
       "      <td>[]</td>\n",
       "      <td>[]</td>\n",
       "      <td>Quality</td>\n",
       "      <td>None</td>\n",
       "    </tr>\n",
       "    <tr>\n",
       "      <th>3</th>\n",
       "      <td>3</td>\n",
       "      <td>NaN</td>\n",
       "      <td>True</td>\n",
       "      <td>04 1, 2013</td>\n",
       "      <td>A2MAD6PK9AUCS1</td>\n",
       "      <td>B0000AYKNR</td>\n",
       "      <td>NaN</td>\n",
       "      <td>Matthew Overin</td>\n",
       "      <td>The product's casters immediately broke - just...</td>\n",
       "      <td>Not the Best Value</td>\n",
       "      <td>...</td>\n",
       "      <td>['B00YW50UX6', 'B0170NWHDM', 'B0170O0D82', 'B0...</td>\n",
       "      <td>{}</td>\n",
       "      <td>Appliances</td>\n",
       "      <td>class=\"a-bordered a-horizontal-stripes  a-spa...</td>\n",
       "      <td>October 18, 2007</td>\n",
       "      <td>NaN</td>\n",
       "      <td>[]</td>\n",
       "      <td>[]</td>\n",
       "      <td>Design/Functionality</td>\n",
       "      <td>None</td>\n",
       "    </tr>\n",
       "    <tr>\n",
       "      <th>4</th>\n",
       "      <td>1</td>\n",
       "      <td>NaN</td>\n",
       "      <td>False</td>\n",
       "      <td>02 9, 2012</td>\n",
       "      <td>A7CCVYNSG2Q5B</td>\n",
       "      <td>B0000AYKNR</td>\n",
       "      <td>NaN</td>\n",
       "      <td>annoyed</td>\n",
       "      <td>sent me a cheap one.  not the stainless steel ...</td>\n",
       "      <td>wrong one</td>\n",
       "      <td>...</td>\n",
       "      <td>['B00YW50UX6', 'B0170NWHDM', 'B0170O0D82', 'B0...</td>\n",
       "      <td>{}</td>\n",
       "      <td>Appliances</td>\n",
       "      <td>class=\"a-bordered a-horizontal-stripes  a-spa...</td>\n",
       "      <td>October 18, 2007</td>\n",
       "      <td>NaN</td>\n",
       "      <td>[]</td>\n",
       "      <td>[]</td>\n",
       "      <td>Quality</td>\n",
       "      <td>None</td>\n",
       "    </tr>\n",
       "  </tbody>\n",
       "</table>\n",
       "<p>5 rows × 33 columns</p>\n",
       "</div>"
      ],
      "text/plain": [
       "   overall  vote  verified   reviewTime      reviewerID        asin style  \\\n",
       "0        3   NaN     False   09 7, 2009  A38TZ2NJ97APSO  B00006JKZX   NaN   \n",
       "1        2   NaN     False  10 23, 2007  A35QRTOA6YLJXF  B00006JKZX   NaN   \n",
       "2        1   NaN     False  12 13, 2012   ACFO1BTLWH43O  B00006JKZX   NaN   \n",
       "3        3   NaN      True   04 1, 2013  A2MAD6PK9AUCS1  B0000AYKNR   NaN   \n",
       "4        1   NaN     False   02 9, 2012   A7CCVYNSG2Q5B  B0000AYKNR   NaN   \n",
       "\n",
       "     reviewerName                                         reviewText  \\\n",
       "0      J. Lussier  I purchased this for my husband as a present. ...   \n",
       "1         Cliff H  For what boils down to a mini-fridge the keger...   \n",
       "2            Jeff  You can get this exact same product at walmart...   \n",
       "3  Matthew Overin  The product's casters immediately broke - just...   \n",
       "4         annoyed  sent me a cheap one.  not the stainless steel ...   \n",
       "\n",
       "                          summary  ...  \\\n",
       "0              Happy with product  ...   \n",
       "1  Lousy Fit & Finish, High Price  ...   \n",
       "2         Same thing better price  ...   \n",
       "3              Not the Best Value  ...   \n",
       "4                       wrong one  ...   \n",
       "\n",
       "                                           also_view details    main_cat  \\\n",
       "0  ['B0170NWHDM', 'B000HJVYDQ', 'B0170O0D82', 'B0...      {}  Appliances   \n",
       "1  ['B0170NWHDM', 'B000HJVYDQ', 'B0170O0D82', 'B0...      {}  Appliances   \n",
       "2  ['B0170NWHDM', 'B000HJVYDQ', 'B0170O0D82', 'B0...      {}  Appliances   \n",
       "3  ['B00YW50UX6', 'B0170NWHDM', 'B0170O0D82', 'B0...      {}  Appliances   \n",
       "4  ['B00YW50UX6', 'B0170NWHDM', 'B0170O0D82', 'B0...      {}  Appliances   \n",
       "\n",
       "                                        similar_item              date price  \\\n",
       "0   class=\"a-bordered a-horizontal-stripes  a-spa...      June 6, 2007   NaN   \n",
       "1   class=\"a-bordered a-horizontal-stripes  a-spa...      June 6, 2007   NaN   \n",
       "2   class=\"a-bordered a-horizontal-stripes  a-spa...      June 6, 2007   NaN   \n",
       "3   class=\"a-bordered a-horizontal-stripes  a-spa...  October 18, 2007   NaN   \n",
       "4   class=\"a-bordered a-horizontal-stripes  a-spa...  October 18, 2007   NaN   \n",
       "\n",
       "   imageURL imageURLHighRes           predictions  firstImageURL  \n",
       "0        []              []   Delivery/ Packaging           None  \n",
       "1        []              []   Delivery/ Packaging           None  \n",
       "2        []              []               Quality           None  \n",
       "3        []              []  Design/Functionality           None  \n",
       "4        []              []               Quality           None  \n",
       "\n",
       "[5 rows x 33 columns]"
      ]
     },
     "execution_count": 60,
     "metadata": {},
     "output_type": "execute_result"
    }
   ],
   "source": [
    "tableau_predCat.head()"
   ]
  },
  {
   "cell_type": "code",
   "execution_count": 60,
   "id": "49fbd875-9088-4e5a-8cfd-ee25bfea9b6c",
   "metadata": {},
   "outputs": [],
   "source": [
    "#tableau_data.to_csv('tableau_fridge_data.csv')"
   ]
  },
  {
   "cell_type": "code",
   "execution_count": 61,
   "id": "ed503077-f794-41c3-a54e-676eb2184bb4",
   "metadata": {},
   "outputs": [],
   "source": [
    "tableau_predCat.to_excel('tableau_fridge_data_v2.xlsx')"
   ]
  },
  {
   "cell_type": "code",
   "execution_count": 108,
   "id": "a07df8cb-3cfb-4ede-a3a3-cc32b9a2aa62",
   "metadata": {},
   "outputs": [],
   "source": [
    "tableau_manual_label = pd.read_csv('Fridge_Label.csv')"
   ]
  },
  {
   "cell_type": "code",
   "execution_count": 110,
   "id": "80d3ed8a-033d-4551-95ed-32688a34d404",
   "metadata": {},
   "outputs": [
    {
     "data": {
      "text/html": [
       "<div>\n",
       "<style scoped>\n",
       "    .dataframe tbody tr th:only-of-type {\n",
       "        vertical-align: middle;\n",
       "    }\n",
       "\n",
       "    .dataframe tbody tr th {\n",
       "        vertical-align: top;\n",
       "    }\n",
       "\n",
       "    .dataframe thead th {\n",
       "        text-align: right;\n",
       "    }\n",
       "</style>\n",
       "<table border=\"1\" class=\"dataframe\">\n",
       "  <thead>\n",
       "    <tr style=\"text-align: right;\">\n",
       "      <th></th>\n",
       "      <th>overall</th>\n",
       "      <th>reviewText</th>\n",
       "      <th>reviewID</th>\n",
       "      <th>GPT Result</th>\n",
       "      <th>Delivery/Packaging</th>\n",
       "      <th>Quality</th>\n",
       "      <th>Design/Functionality</th>\n",
       "      <th>Other</th>\n",
       "      <th>Value</th>\n",
       "      <th>Categories</th>\n",
       "      <th>Label</th>\n",
       "    </tr>\n",
       "  </thead>\n",
       "  <tbody>\n",
       "    <tr>\n",
       "      <th>0</th>\n",
       "      <td>3</td>\n",
       "      <td>I purchased this for my husband as a present. ...</td>\n",
       "      <td>1365</td>\n",
       "      <td>Delivery/Packaging</td>\n",
       "      <td>True</td>\n",
       "      <td>False</td>\n",
       "      <td>False</td>\n",
       "      <td>False</td>\n",
       "      <td>False</td>\n",
       "      <td>1</td>\n",
       "      <td>1</td>\n",
       "    </tr>\n",
       "    <tr>\n",
       "      <th>1</th>\n",
       "      <td>2</td>\n",
       "      <td>For what boils down to a mini-fridge the keger...</td>\n",
       "      <td>1374</td>\n",
       "      <td>Quality</td>\n",
       "      <td>False</td>\n",
       "      <td>True</td>\n",
       "      <td>False</td>\n",
       "      <td>False</td>\n",
       "      <td>False</td>\n",
       "      <td>1</td>\n",
       "      <td>2</td>\n",
       "    </tr>\n",
       "    <tr>\n",
       "      <th>2</th>\n",
       "      <td>1</td>\n",
       "      <td>You can get this exact same product at walmart...</td>\n",
       "      <td>474186</td>\n",
       "      <td>Other</td>\n",
       "      <td>False</td>\n",
       "      <td>False</td>\n",
       "      <td>False</td>\n",
       "      <td>True</td>\n",
       "      <td>True</td>\n",
       "      <td>1</td>\n",
       "      <td>4</td>\n",
       "    </tr>\n",
       "    <tr>\n",
       "      <th>3</th>\n",
       "      <td>3</td>\n",
       "      <td>The product's casters immediately broke - just...</td>\n",
       "      <td>474503</td>\n",
       "      <td>Quality</td>\n",
       "      <td>False</td>\n",
       "      <td>True</td>\n",
       "      <td>False</td>\n",
       "      <td>False</td>\n",
       "      <td>False</td>\n",
       "      <td>1</td>\n",
       "      <td>2</td>\n",
       "    </tr>\n",
       "    <tr>\n",
       "      <th>4</th>\n",
       "      <td>1</td>\n",
       "      <td>sent me a cheap one. not the stainless steel o...</td>\n",
       "      <td>474504</td>\n",
       "      <td>Quality</td>\n",
       "      <td>False</td>\n",
       "      <td>True</td>\n",
       "      <td>False</td>\n",
       "      <td>False</td>\n",
       "      <td>False</td>\n",
       "      <td>1</td>\n",
       "      <td>2</td>\n",
       "    </tr>\n",
       "  </tbody>\n",
       "</table>\n",
       "</div>"
      ],
      "text/plain": [
       "   overall                                         reviewText  reviewID  \\\n",
       "0        3  I purchased this for my husband as a present. ...      1365   \n",
       "1        2  For what boils down to a mini-fridge the keger...      1374   \n",
       "2        1  You can get this exact same product at walmart...    474186   \n",
       "3        3  The product's casters immediately broke - just...    474503   \n",
       "4        1  sent me a cheap one. not the stainless steel o...    474504   \n",
       "\n",
       "           GPT Result  Delivery/Packaging  Quality  Design/Functionality  \\\n",
       "0  Delivery/Packaging                True    False                 False   \n",
       "1             Quality               False     True                 False   \n",
       "2               Other               False    False                 False   \n",
       "3             Quality               False     True                 False   \n",
       "4             Quality               False     True                 False   \n",
       "\n",
       "   Other  Value  Categories  Label  \n",
       "0  False  False           1      1  \n",
       "1  False  False           1      2  \n",
       "2   True   True           1      4  \n",
       "3  False  False           1      2  \n",
       "4  False  False           1      2  "
      ]
     },
     "execution_count": 110,
     "metadata": {},
     "output_type": "execute_result"
    }
   ],
   "source": [
    "tableau_manual_label.head()"
   ]
  },
  {
   "cell_type": "code",
   "execution_count": null,
   "id": "0781da80-27a6-4f78-8038-922874b70e07",
   "metadata": {},
   "outputs": [],
   "source": [
    "labels_dict2 = {0: 'Delivery/ Packaging', 1: 'Quality', 2: 'Design/Functionality'}"
   ]
  }
 ],
 "metadata": {
  "kernelspec": {
   "display_name": "Python 3 (ipykernel)",
   "language": "python",
   "name": "python3"
  },
  "language_info": {
   "codemirror_mode": {
    "name": "ipython",
    "version": 3
   },
   "file_extension": ".py",
   "mimetype": "text/x-python",
   "name": "python",
   "nbconvert_exporter": "python",
   "pygments_lexer": "ipython3",
   "version": "3.10.9"
  }
 },
 "nbformat": 4,
 "nbformat_minor": 5
}
